{
  "nbformat": 4,
  "nbformat_minor": 0,
  "metadata": {
    "colab": {
      "provenance": []
    },
    "kernelspec": {
      "name": "python3",
      "display_name": "Python 3"
    },
    "language_info": {
      "name": "python"
    }
  },
  "cells": [
    {
      "cell_type": "code",
      "execution_count": null,
      "metadata": {
        "id": "ckVJIyvFm5Iz"
      },
      "outputs": [],
      "source": [
        "!pip install spacy\n",
        "!python -m spacy download en_core_web_sm\n"
      ]
    },
    {
      "cell_type": "code",
      "source": [
        "import spacy\n",
        "import random\n",
        "from spacy.matcher import Matcher\n"
      ],
      "metadata": {
        "id": "MOguxqVDnJyy"
      },
      "execution_count": 2,
      "outputs": []
    },
    {
      "cell_type": "code",
      "source": [
        "nlp = spacy.load(\"en_core_web_sm\")\n",
        "\n",
        "rules = {\n",
        "    \"greeting\": [\"hello\", \"hi\", \"hey\"],\n",
        "    \"goodbye\": [\"goodbye\", \"bye\", \"see you\"],\n",
        "    \"thanks\": [\"thank you\", \"thanks\"],\n",
        "    \"weather\": [\"weather\", \"forecast\"],\n",
        "    \"age\": [\"age\", \"old\"],\n",
        "    \"name\": [\"name\"],\n",
        "    \"default\": [],\n",
        "}\n",
        "\n",
        "responses = {\n",
        "    \"greeting\": [\"Hello! How can I assist you today?\", \"Hi there!\", \"Hey, what's up?\"],\n",
        "    \"goodbye\": [\"Goodbye! Have a great day.\", \"See you later!\", \"Bye!\"],\n",
        "    \"thanks\": [\"You're welcome!\", \"No problem.\", \"Glad I could help.\"],\n",
        "    \"weather\": [\"I'm not able to provide weather information at the moment.\"],\n",
        "    \"age\": [\"I'm just a computer program, so I don't have an age.\", \"Age is just a number, right?\"],\n",
        "    \"name\": [\"I don't have a name, but you can call me Chatbot.\", \"I'm your friendly Chatbot.\"],\n",
        "}\n",
        "\n",
        "context = {}\n"
      ],
      "metadata": {
        "id": "TsksqHAhnLx3"
      },
      "execution_count": 3,
      "outputs": []
    },
    {
      "cell_type": "code",
      "source": [
        "matcher = Matcher(nlp.vocab)\n",
        "\n",
        "def chatbot_response(user_input):\n",
        "    global context\n",
        "    doc = nlp(user_input)\n",
        "\n",
        "    for key, patterns in rules.items():\n",
        "        for pattern in patterns:\n",
        "            if any(token.text.lower() == pattern for token in doc):\n",
        "                response = random.choice(responses.get(key, []))\n",
        "                if key in context:\n",
        "                    context.pop(key)\n",
        "                return response\n",
        "\n",
        "    closest_match = min(rules, key=lambda key: nlp(key).similarity(doc))\n",
        "    if closest_match in context:\n",
        "        response = random.choice(responses.get(closest_match, []))\n",
        "        context.pop(closest_match)\n",
        "    else:\n",
        "        response = \"I'm not sure how to respond to that.\"\n",
        "\n",
        "    if closest_match == \"age\" or closest_match == \"name\":\n",
        "        context[closest_match] = True\n",
        "\n",
        "    return response\n",
        "\n"
      ],
      "metadata": {
        "id": "zJWsEaoEnOEm"
      },
      "execution_count": 7,
      "outputs": []
    },
    {
      "cell_type": "code",
      "source": [
        "while True:\n",
        "    user_input = input(\"You: \")\n",
        "    if user_input.lower() == 'exit':\n",
        "        print(\"Chatbot: Goodbye!\")\n",
        "        break\n",
        "    response = chatbot_response(user_input)\n",
        "    print(\"Chatbot:\", response)\n"
      ],
      "metadata": {
        "colab": {
          "base_uri": "https://localhost:8080/"
        },
        "id": "rbJdaeZDnP6B",
        "outputId": "9c52e1e6-52cb-47e3-bb5a-8c8c8a2f273a"
      },
      "execution_count": 8,
      "outputs": [
        {
          "name": "stdout",
          "output_type": "stream",
          "text": [
            "You: hey\n",
            "Chatbot: Hi there!\n",
            "You: how are you\n"
          ]
        },
        {
          "output_type": "stream",
          "name": "stderr",
          "text": [
            "<ipython-input-7-3db10ceb0766>:15: UserWarning: [W007] The model you're using has no word vectors loaded, so the result of the Doc.similarity method will be based on the tagger, parser and NER, which may not give useful similarity judgements. This may happen if you're using one of the small models, e.g. `en_core_web_sm`, which don't ship with word vectors and only use context-sensitive tensors. You can always add your own word vectors, or use one of the larger models instead if available.\n",
            "  closest_match = min(rules, key=lambda key: nlp(key).similarity(doc))\n"
          ]
        },
        {
          "output_type": "stream",
          "name": "stdout",
          "text": [
            "Chatbot: I'm not sure how to respond to that.\n",
            "You: age\n",
            "Chatbot: Age is just a number, right?\n",
            "You: name\n",
            "Chatbot: I don't have a name, but you can call me Chatbot.\n",
            "You: hi chatbot\n",
            "Chatbot: Hey, what's up?\n",
            "You: goodbye\n",
            "Chatbot: Bye!\n",
            "You: bye\n",
            "Chatbot: Bye!\n",
            "You: exit\n",
            "Chatbot: Goodbye!\n"
          ]
        }
      ]
    }
  ]
}